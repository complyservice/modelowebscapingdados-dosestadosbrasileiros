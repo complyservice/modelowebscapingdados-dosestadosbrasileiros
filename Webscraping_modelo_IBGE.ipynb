{
  "nbformat": 4,
  "nbformat_minor": 0,
  "metadata": {
    "colab": {
      "name": "Webscraping modelo IBGE.ipynb",
      "provenance": [],
      "authorship_tag": "ABX9TyNqo3Exanz7s5OJSlUOGOT1",
      "include_colab_link": true
    },
    "kernelspec": {
      "name": "python3",
      "display_name": "Python 3"
    },
    "language_info": {
      "name": "python"
    }
  },
  "cells": [
    {
      "cell_type": "markdown",
      "metadata": {
        "id": "view-in-github",
        "colab_type": "text"
      },
      "source": [
        "<a href=\"https://colab.research.google.com/github/complyservice/modelowebscapingdados-dosestadosbrasileiros/blob/main/Webscraping_modelo_IBGE.ipynb\" target=\"_parent\"><img src=\"https://colab.research.google.com/assets/colab-badge.svg\" alt=\"Open In Colab\"/></a>"
      ]
    },
    {
      "cell_type": "code",
      "metadata": {
        "id": "J6_mVDxqcVGa"
      },
      "source": [
        "import requests \n",
        "from bs4 import BeautifulSoup\n",
        "import pandas as pd "
      ],
      "execution_count": 1,
      "outputs": []
    },
    {
      "cell_type": "code",
      "metadata": {
        "colab": {
          "base_uri": "https://localhost:8080/"
        },
        "id": "ZghedaSEgj1i",
        "outputId": "40abed19-6729-4bd6-8c35-6761f2811c40"
      },
      "source": [
        "def scrap_state_info(state: str) -> dict:\n",
        "    \"\"\"\n",
        "    Retorna informações do estado brasileiro\n",
        "\n",
        "    :param state: nome do estado\n",
        "    :returns state_dict: dicionário com indicadores do estado\n",
        "    \"\"\"\n",
        "    print(f'⛷️ Picking {state} info...')\n",
        "    state_url = f'https://www.ibge.gov.br/cidades-e-estados/{state}.html'\n",
        "    page = requests.get(state_url)\n",
        "\n",
        "    soup = BeautifulSoup(page.content, 'html.parser')\n",
        "    indicadors = soup.select('.indicador')\n",
        "\n",
        "    state_dict = {\n",
        "        ind.select('.ind-label')[0].text: ind.select('.ind-value')[0].text\n",
        "        for ind in indicadors\n",
        "    }\n",
        "\n",
        "    state_dict['Estado'] = state\n",
        "\n",
        "    return state_dict\n",
        "\n",
        "scrap_state_info('sp')"
      ],
      "execution_count": 2,
      "outputs": [
        {
          "output_type": "stream",
          "name": "stdout",
          "text": [
            "⛷️ Picking sp info...\n"
          ]
        },
        {
          "output_type": "execute_result",
          "data": {
            "text/plain": [
              "{'Capital': 'São Paulo\\xa0\\xa0\\xa0[2010]',\n",
              " 'Densidade demográfica': '166,25 hab/km²\\xa0\\xa0\\xa0[2010]',\n",
              " 'Despesas empenhadas': '231.982.243,69 R$ (×1000)\\xa0\\xa0\\xa0[2017]',\n",
              " 'Estado': 'sp',\n",
              " 'Gentílico': 'paulista',\n",
              " 'Governador': 'JOÃO AGRIPINO DA COSTA DORIA JUNIOR\\xa0\\xa0\\xa0[2019]',\n",
              " 'IDH Índice de desenvolvimento humano': '0,783\\xa0\\xa0\\xa0[2010]',\n",
              " 'Matrículas no ensino fundamental': '5.414.208 matrículas\\xa0\\xa0\\xa0[2020]',\n",
              " 'População estimada': '46.649.132 pessoas\\xa0\\xa0\\xa0[2021]',\n",
              " 'Receitas realizadas': '232.822.496,57 R$ (×1000)\\xa0\\xa0\\xa0[2017]',\n",
              " 'Rendimento mensal domiciliar per capita': '1.814 R$\\xa0\\xa0\\xa0[2020]',\n",
              " 'Total de veículos': '30.778.960 veículos\\xa0\\xa0\\xa0[2020]',\n",
              " 'Área Territorial': '248.219,481 km²\\xa0\\xa0\\xa0[2020]'}"
            ]
          },
          "metadata": {},
          "execution_count": 2
        }
      ]
    },
    {
      "cell_type": "code",
      "metadata": {
        "colab": {
          "base_uri": "https://localhost:8080/"
        },
        "id": "i_z19BdEgsiO",
        "outputId": "aba0904c-64f3-44ac-b5b1-d82bb2572ed9"
      },
      "source": [
        "#Passa pelas paginas de cada estado\n",
        "states = ['AC', 'AL', 'AP', 'AM', 'BA', 'CE', 'DF', 'ES', 'GO', 'MA', 'MT', 'MS', 'MG', 'PA', 'PB', 'PR', 'PE', 'PI', 'RJ', 'RN', 'RS', 'RO', 'RR', 'SC', 'SP', 'SE', 'TO']\n",
        "\n",
        "states_data = [scrap_state_info(state) for state in states]"
      ],
      "execution_count": null,
      "outputs": [
        {
          "output_type": "stream",
          "text": [
            "⛷️ Picking AC info...\n",
            "⛷️ Picking AL info...\n",
            "⛷️ Picking AP info...\n",
            "⛷️ Picking AM info...\n",
            "⛷️ Picking BA info...\n",
            "⛷️ Picking CE info...\n",
            "⛷️ Picking DF info...\n",
            "⛷️ Picking ES info...\n",
            "⛷️ Picking GO info...\n",
            "⛷️ Picking MA info...\n",
            "⛷️ Picking MT info...\n",
            "⛷️ Picking MS info...\n",
            "⛷️ Picking MG info...\n",
            "⛷️ Picking PA info...\n",
            "⛷️ Picking PB info...\n",
            "⛷️ Picking PR info...\n",
            "⛷️ Picking PE info...\n",
            "⛷️ Picking PI info...\n",
            "⛷️ Picking RJ info...\n",
            "⛷️ Picking RN info...\n",
            "⛷️ Picking RS info...\n",
            "⛷️ Picking RO info...\n",
            "⛷️ Picking RR info...\n",
            "⛷️ Picking SC info...\n",
            "⛷️ Picking SP info...\n",
            "⛷️ Picking SE info...\n",
            "⛷️ Picking TO info...\n"
          ],
          "name": "stdout"
        }
      ]
    },
    {
      "cell_type": "code",
      "metadata": {
        "colab": {
          "base_uri": "https://localhost:8080/",
          "height": 472
        },
        "id": "1nhocNUrj0JC",
        "outputId": "da738c08-9e97-4828-acdd-cacb8a02f444"
      },
      "source": [
        "df = pd.DataFrame(states_data)\n",
        "df.head()\n",
        "#df.info()"
      ],
      "execution_count": null,
      "outputs": [
        {
          "output_type": "execute_result",
          "data": {
            "text/html": [
              "<div>\n",
              "<style scoped>\n",
              "    .dataframe tbody tr th:only-of-type {\n",
              "        vertical-align: middle;\n",
              "    }\n",
              "\n",
              "    .dataframe tbody tr th {\n",
              "        vertical-align: top;\n",
              "    }\n",
              "\n",
              "    .dataframe thead th {\n",
              "        text-align: right;\n",
              "    }\n",
              "</style>\n",
              "<table border=\"1\" class=\"dataframe\">\n",
              "  <thead>\n",
              "    <tr style=\"text-align: right;\">\n",
              "      <th></th>\n",
              "      <th>Governador</th>\n",
              "      <th>Capital</th>\n",
              "      <th>Gentílico</th>\n",
              "      <th>Área Territorial</th>\n",
              "      <th>População estimada</th>\n",
              "      <th>Densidade demográfica</th>\n",
              "      <th>Matrículas no ensino fundamental</th>\n",
              "      <th>IDH Índice de desenvolvimento humano</th>\n",
              "      <th>Receitas realizadas</th>\n",
              "      <th>Despesas empenhadas</th>\n",
              "      <th>Rendimento mensal domiciliar per capita</th>\n",
              "      <th>Total de veículos</th>\n",
              "      <th>Estado</th>\n",
              "    </tr>\n",
              "  </thead>\n",
              "  <tbody>\n",
              "    <tr>\n",
              "      <th>0</th>\n",
              "      <td>GLADSON DE LIMA CAMELI   [2019]</td>\n",
              "      <td>Rio Branco   [2010]</td>\n",
              "      <td>acriano</td>\n",
              "      <td>164.173,431 km²   [2020]</td>\n",
              "      <td>894.470 pessoas   [2020]</td>\n",
              "      <td>4,47 hab/km²   [2010]</td>\n",
              "      <td>156.679 matrículas   [2020]</td>\n",
              "      <td>0,663   [2010]</td>\n",
              "      <td>6.632.883,11 R$ (×1000)   [2017]</td>\n",
              "      <td>6.084.416,81 R$ (×1000)   [2017]</td>\n",
              "      <td>917 R$   [2020]</td>\n",
              "      <td>306.258 veículos   [2020]</td>\n",
              "      <td>AC</td>\n",
              "    </tr>\n",
              "    <tr>\n",
              "      <th>1</th>\n",
              "      <td>JOSE RENAN VASCONCELOS CALHEIROS FILHO   [2019]</td>\n",
              "      <td>Maceió   [2010]</td>\n",
              "      <td>alagoano</td>\n",
              "      <td>27.830,656 km²   [2020]</td>\n",
              "      <td>3.351.543 pessoas   [2020]</td>\n",
              "      <td>112,33 hab/km²   [2010]</td>\n",
              "      <td>464.704 matrículas   [2020]</td>\n",
              "      <td>0,631   [2010]</td>\n",
              "      <td>11.950.438,46 R$ (×1000)   [2017]</td>\n",
              "      <td>10.460.634,92 R$ (×1000)   [2017]</td>\n",
              "      <td>796 R$   [2020]</td>\n",
              "      <td>930.933 veículos   [2020]</td>\n",
              "      <td>AL</td>\n",
              "    </tr>\n",
              "    <tr>\n",
              "      <th>2</th>\n",
              "      <td>ANTONIO WALDEZ GÓES DA SILVA   [2019]</td>\n",
              "      <td>Macapá   [2010]</td>\n",
              "      <td>amapaense</td>\n",
              "      <td>142.470,762 km²   [2020]</td>\n",
              "      <td>861.773 pessoas   [2020]</td>\n",
              "      <td>4,69 hab/km²   [2010]</td>\n",
              "      <td>134.820 matrículas   [2020]</td>\n",
              "      <td>0,708   [2010]</td>\n",
              "      <td>5.396.417,14 R$ (×1000)   [2017]</td>\n",
              "      <td>4.224.464,09 R$ (×1000)   [2017]</td>\n",
              "      <td>893 R$   [2020]</td>\n",
              "      <td>215.330 veículos   [2020]</td>\n",
              "      <td>AP</td>\n",
              "    </tr>\n",
              "    <tr>\n",
              "      <th>3</th>\n",
              "      <td>WILSON MIRANDA LIMA   [2019]</td>\n",
              "      <td>Manaus   [2010]</td>\n",
              "      <td>amazonense</td>\n",
              "      <td>1.559.167,878 km²   [2020]</td>\n",
              "      <td>4.207.714 pessoas   [2020]</td>\n",
              "      <td>2,23 hab/km²   [2010]</td>\n",
              "      <td>700.104 matrículas   [2020]</td>\n",
              "      <td>0,674   [2010]</td>\n",
              "      <td>17.328.459,43 R$ (×1000)   [2017]</td>\n",
              "      <td>15.324.896,56 R$ (×1000)   [2017]</td>\n",
              "      <td>852 R$   [2020]</td>\n",
              "      <td>969.722 veículos   [2020]</td>\n",
              "      <td>AM</td>\n",
              "    </tr>\n",
              "    <tr>\n",
              "      <th>4</th>\n",
              "      <td>RUI COSTA DOS SANTOS   [2019]</td>\n",
              "      <td>Salvador   [2010]</td>\n",
              "      <td>baiano</td>\n",
              "      <td>564.760,427 km²   [2020]</td>\n",
              "      <td>14.930.634 pessoas   [2020]</td>\n",
              "      <td>24,82 hab/km²   [2010]</td>\n",
              "      <td>1.947.177 matrículas   [2020]</td>\n",
              "      <td>0,660   [2010]</td>\n",
              "      <td>50.191.003,24 R$ (×1000)   [2017]</td>\n",
              "      <td>45.570.160,00 R$ (×1000)   [2017]</td>\n",
              "      <td>965 R$   [2020]</td>\n",
              "      <td>4.506.825 veículos   [2020]</td>\n",
              "      <td>BA</td>\n",
              "    </tr>\n",
              "  </tbody>\n",
              "</table>\n",
              "</div>"
            ],
            "text/plain": [
              "                                        Governador  ... Estado\n",
              "0                  GLADSON DE LIMA CAMELI   [2019]  ...     AC\n",
              "1  JOSE RENAN VASCONCELOS CALHEIROS FILHO   [2019]  ...     AL\n",
              "2            ANTONIO WALDEZ GÓES DA SILVA   [2019]  ...     AP\n",
              "3                     WILSON MIRANDA LIMA   [2019]  ...     AM\n",
              "4                    RUI COSTA DOS SANTOS   [2019]  ...     BA\n",
              "\n",
              "[5 rows x 13 columns]"
            ]
          },
          "metadata": {
            "tags": []
          },
          "execution_count": 15
        }
      ]
    },
    {
      "cell_type": "code",
      "metadata": {
        "id": "oEMv8bMrkIRB"
      },
      "source": [
        "#Limpeza dos dados\n",
        "states_df = df.copy()\n",
        "states_df.columns = ['governor', 'capital', 'gentile', 'area', 'population', 'demographic_density', 'primary_school_enrollment', 'idh', 'realized_revenue', 'committed_expenses', 'income_per_capita', 'vehicle_total', 'code']\n",
        "states_df = states_df[['code', 'governor', 'population', 'area', 'idh', 'income_per_capita', 'vehicle_total', 'primary_school_enrollment', 'committed_expenses', 'realized_revenue']]\n",
        "\n",
        "\n",
        "states_df = states_df.replace({\n",
        "    '\\.': '',\n",
        "    ',': '.',\n",
        "    '\\[\\d+\\]': '',\n",
        "    ' hab/km²': '',\n",
        "    ' km²': '',\n",
        "    ' pessoas': '',\n",
        "    ' matrículas': '',\n",
        "    'R\\$.*': '',\n",
        "    ' veículos': ''\n",
        "}, regex=True)\n",
        "\n",
        "states_df.head()\n",
        "\n",
        "num_cols = ['population', 'area', 'idh', 'income_per_capita', 'vehicle_total', 'primary_school_enrollment', 'committed_expenses', 'realized_revenue']\n",
        "\n",
        "states_df[num_cols] = states_df[num_cols].apply(lambda x: x.str.strip())"
      ],
      "execution_count": null,
      "outputs": []
    },
    {
      "cell_type": "markdown",
      "metadata": {
        "id": "AjS6zhRxou7r"
      },
      "source": [
        ""
      ]
    },
    {
      "cell_type": "code",
      "metadata": {
        "id": "Aw0Bv0qWmrHG"
      },
      "source": [
        "#Exportar para o Drive\n",
        "\n",
        "from google.colab import drive\n",
        "drive.mount('/content/drive')\n",
        "\n",
        "states_df.to_csv('/content/drive/MyDrive/SimpleData.ai/Scrap/Data/ibge_states.csv')"
      ],
      "execution_count": null,
      "outputs": []
    }
  ]
}